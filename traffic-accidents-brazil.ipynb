{
 "cells": [
  {
   "cell_type": "markdown",
   "source": [
    "# Traffic Accidents in Brazillian Federal Highways"
   ],
   "metadata": {}
  },
  {
   "cell_type": "code",
   "execution_count": 1,
   "source": [
    "from sqlalchemy.exc import OperationalError, DatabaseError\r\n",
    "from sqlalchemy.orm import sessionmaker\r\n",
    "from sqlalchemy import create_engine\r\n",
    "import mysql.connector as mysql\r\n",
    "import pandas as pd\r\n",
    "import logging\r\n",
    "import os\r\n"
   ],
   "outputs": [],
   "metadata": {}
  },
  {
   "cell_type": "markdown",
   "source": [
    "# INTRO"
   ],
   "metadata": {}
  },
  {
   "cell_type": "markdown",
   "source": [
    "## Data collection"
   ],
   "metadata": {}
  },
  {
   "cell_type": "markdown",
   "source": [
    "### Data collection - traffic accidents"
   ],
   "metadata": {}
  },
  {
   "cell_type": "markdown",
   "source": [
    "### Data collection - GeoJSon"
   ],
   "metadata": {}
  },
  {
   "cell_type": "markdown",
   "source": [
    "### Data handling\r\n",
    "First, we connect to database:"
   ],
   "metadata": {}
  },
  {
   "cell_type": "code",
   "execution_count": 4,
   "source": [
    "def connect_to_db():\r\n",
    "    # Função que SOMENTE conecta na database e retorna seja lá o que for necessário (engine, connection, session...) para operar na database"
   ],
   "outputs": [],
   "metadata": {}
  }
 ],
 "metadata": {
  "orig_nbformat": 4,
  "language_info": {
   "name": "python",
   "version": "3.8.5",
   "mimetype": "text/x-python",
   "codemirror_mode": {
    "name": "ipython",
    "version": 3
   },
   "pygments_lexer": "ipython3",
   "nbconvert_exporter": "python",
   "file_extension": ".py"
  },
  "kernelspec": {
   "name": "python3",
   "display_name": "Python 3.8.5 64-bit ('venv': venv)"
  },
  "interpreter": {
   "hash": "8daf3981f436d5a8359d304abfb2db1e71a2a1a85cf67320c6758f1fc53f8efc"
  }
 },
 "nbformat": 4,
 "nbformat_minor": 2
}