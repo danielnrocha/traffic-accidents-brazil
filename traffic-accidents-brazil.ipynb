{
 "cells": [
  {
   "cell_type": "markdown",
   "source": [
    "# Traffic Accidents in Brazillian Federal Highways"
   ],
   "metadata": {}
  },
  {
   "cell_type": "code",
   "execution_count": 1,
   "source": [
    "import mysql.connector as mysql\r\n",
    "import pandas as pd"
   ],
   "outputs": [
    {
     "output_type": "stream",
     "name": "stderr",
     "text": [
      "C:\\ProgramData\\Anaconda3\\lib\\site-packages\\requests\\__init__.py:89: RequestsDependencyWarning: urllib3 (1.26.7) or chardet (3.0.4) doesn't match a supported version!\n",
      "  warnings.warn(\"urllib3 ({}) or chardet ({}) doesn't match a supported \"\n"
     ]
    }
   ],
   "metadata": {}
  },
  {
   "cell_type": "code",
   "execution_count": 32,
   "source": [
    "db = mysql.connect(\r\n",
    "    host = \"us-cdbr-east-04.cleardb.com\",\r\n",
    "    user = \"bd7bbf83ab7643\",\r\n",
    "    password = \"dfce7117\",\r\n",
    "    database='heroku_aba902d59bebc6b'\r\n",
    ")"
   ],
   "outputs": [],
   "metadata": {}
  },
  {
   "cell_type": "code",
   "execution_count": 33,
   "source": [
    "cursor = db.cursor()"
   ],
   "outputs": [],
   "metadata": {}
  },
  {
   "cell_type": "code",
   "execution_count": 24,
   "source": [
    "cursor.execute(\"CREATE DATABASE brazil_traffic,\")"
   ],
   "outputs": [
    {
     "output_type": "error",
     "ename": "OperationalError",
     "evalue": "2013 (HY000): Lost connection to MySQL server during query",
     "traceback": [
      "\u001b[1;31m---------------------------------------------------------------------------\u001b[0m",
      "\u001b[1;31mMySQLInterfaceError\u001b[0m                       Traceback (most recent call last)",
      "\u001b[1;32mC:\\ProgramData\\Anaconda3\\lib\\site-packages\\mysql\\connector\\connection_cext.py\u001b[0m in \u001b[0;36mcmd_query\u001b[1;34m(self, query, raw, buffered, raw_as_string)\u001b[0m\n\u001b[0;32m    516\u001b[0m                 \u001b[0mquery\u001b[0m \u001b[1;33m=\u001b[0m \u001b[0mquery\u001b[0m\u001b[1;33m.\u001b[0m\u001b[0mencode\u001b[0m\u001b[1;33m(\u001b[0m\u001b[1;34m'utf-8'\u001b[0m\u001b[1;33m)\u001b[0m\u001b[1;33m\u001b[0m\u001b[1;33m\u001b[0m\u001b[0m\n\u001b[1;32m--> 517\u001b[1;33m             self._cmysql.query(query,\n\u001b[0m\u001b[0;32m    518\u001b[0m                                \u001b[0mraw\u001b[0m\u001b[1;33m=\u001b[0m\u001b[0mraw\u001b[0m\u001b[1;33m,\u001b[0m \u001b[0mbuffered\u001b[0m\u001b[1;33m=\u001b[0m\u001b[0mbuffered\u001b[0m\u001b[1;33m,\u001b[0m\u001b[1;33m\u001b[0m\u001b[1;33m\u001b[0m\u001b[0m\n",
      "\u001b[1;31mMySQLInterfaceError\u001b[0m: Lost connection to MySQL server during query",
      "\nDuring handling of the above exception, another exception occurred:\n",
      "\u001b[1;31mOperationalError\u001b[0m                          Traceback (most recent call last)",
      "\u001b[1;32m<ipython-input-24-c5e84060772a>\u001b[0m in \u001b[0;36m<module>\u001b[1;34m\u001b[0m\n\u001b[1;32m----> 1\u001b[1;33m \u001b[0mcursor\u001b[0m\u001b[1;33m.\u001b[0m\u001b[0mexecute\u001b[0m\u001b[1;33m(\u001b[0m\u001b[1;34m\"CREATE DATABASE brazil_traffic;\"\u001b[0m\u001b[1;33m)\u001b[0m\u001b[1;33m\u001b[0m\u001b[1;33m\u001b[0m\u001b[0m\n\u001b[0m",
      "\u001b[1;32mC:\\ProgramData\\Anaconda3\\lib\\site-packages\\mysql\\connector\\cursor_cext.py\u001b[0m in \u001b[0;36mexecute\u001b[1;34m(self, operation, params, multi)\u001b[0m\n\u001b[0;32m    268\u001b[0m \u001b[1;33m\u001b[0m\u001b[0m\n\u001b[0;32m    269\u001b[0m         \u001b[1;32mtry\u001b[0m\u001b[1;33m:\u001b[0m\u001b[1;33m\u001b[0m\u001b[1;33m\u001b[0m\u001b[0m\n\u001b[1;32m--> 270\u001b[1;33m             result = self._cnx.cmd_query(stmt, raw=self._raw,\n\u001b[0m\u001b[0;32m    271\u001b[0m                                          \u001b[0mbuffered\u001b[0m\u001b[1;33m=\u001b[0m\u001b[0mself\u001b[0m\u001b[1;33m.\u001b[0m\u001b[0m_buffered\u001b[0m\u001b[1;33m,\u001b[0m\u001b[1;33m\u001b[0m\u001b[1;33m\u001b[0m\u001b[0m\n\u001b[0;32m    272\u001b[0m                                          raw_as_string=self._raw_as_string)\n",
      "\u001b[1;32mC:\\ProgramData\\Anaconda3\\lib\\site-packages\\mysql\\connector\\connection_cext.py\u001b[0m in \u001b[0;36mcmd_query\u001b[1;34m(self, query, raw, buffered, raw_as_string)\u001b[0m\n\u001b[0;32m    520\u001b[0m                                query_attrs=self._query_attrs)\n\u001b[0;32m    521\u001b[0m         \u001b[1;32mexcept\u001b[0m \u001b[0mMySQLInterfaceError\u001b[0m \u001b[1;32mas\u001b[0m \u001b[0mexc\u001b[0m\u001b[1;33m:\u001b[0m\u001b[1;33m\u001b[0m\u001b[1;33m\u001b[0m\u001b[0m\n\u001b[1;32m--> 522\u001b[1;33m             raise errors.get_mysql_exception(exc.errno, msg=exc.msg,\n\u001b[0m\u001b[0;32m    523\u001b[0m                                              sqlstate=exc.sqlstate)\n\u001b[0;32m    524\u001b[0m         \u001b[1;32mexcept\u001b[0m \u001b[0mAttributeError\u001b[0m\u001b[1;33m:\u001b[0m\u001b[1;33m\u001b[0m\u001b[1;33m\u001b[0m\u001b[0m\n",
      "\u001b[1;31mOperationalError\u001b[0m: 2013 (HY000): Lost connection to MySQL server during query"
     ]
    }
   ],
   "metadata": {}
  },
  {
   "cell_type": "code",
   "execution_count": 23,
   "source": [],
   "outputs": [],
   "metadata": {}
  },
  {
   "cell_type": "code",
   "execution_count": 24,
   "source": [
    "unique_dict = {}\r\n"
   ],
   "outputs": [
    {
     "output_type": "execute_result",
     "data": {
      "text/plain": [
       "Index(['id', 'pesid', 'data_inversa', 'dia_semana', 'horario', 'uf', 'br',\n",
       "       'km', 'municipio', 'causa_principal', 'causa_acidente',\n",
       "       'ordem_tipo_acidente', 'tipo_acidente', 'classificacao_acidente',\n",
       "       'fase_dia', 'sentido_via', 'condicao_metereologica', 'tipo_pista',\n",
       "       'tracado_via', 'uso_solo', 'id_veiculo', 'tipo_veiculo', 'marca',\n",
       "       'ano_fabricacao_veiculo', 'tipo_envolvido', 'estado_fisico', 'idade',\n",
       "       'sexo', 'ilesos', 'feridos_leves', 'feridos_graves', 'mortos',\n",
       "       'latitude', 'longitude', 'regional', 'delegacia', 'uop'],\n",
       "      dtype='object')"
      ]
     },
     "metadata": {},
     "execution_count": 24
    }
   ],
   "metadata": {}
  },
  {
   "cell_type": "code",
   "execution_count": 34,
   "source": [
    "cursor.execute(\"\"\"\r\n",
    "CREATE TABLE traffic_accidents_br(\r\n",
    "    id INT(50) NOT NULL AUTO_INCREMENT,\r\n",
    "    pesid INT(50),\r\n",
    "    data_inversa DATE,\r\n",
    "    dia_semana ENUM('segunda-feira','terça-feira','quarta-feira','quinta-feira','sexta-feira','sábado','domingo'),\r\n",
    "    horario TIME(0),\r\n",
    "    uf ENUM('PR','SC','GO','PB','TO','RS','PE','PI','CE','MS','SP','BA','SE','DF','RJ','MG','PA','RO','AL','RN','MT','ES','MA','AC','RR','AM','AP'),\r\n",
    "    br VARCHAR(3),\r\n",
    "    km FLOAT(4,2),\r\n",
    "    municipio VARCHAR(30),\r\n",
    "    causa_principal ENUM('Sim','Não'),\r\n",
    "    causa_acidente ENUM('Fenômenos da Natureza','Falta de Atenção à Condução','Animais na Pista','Avarias e/ou desgaste excessivo no pneu','Ingestão de Álcool','Não guardar distância de segurança','Defeito Mecânico no Veículo','Desobediência às normas de trânsito pelo condutor','Velocidade Incompatível','Restrição de Visibilidade','Falta de Atenção do Pedestre','Condutor Dormindo','Mal Súbito','Pista Escorregadia','Ultrapassagem Indevida','Defeito na Via','Sinalização da via insuficiente ou inadequada','Carga excessiva e/ou mal acondicionada','Objeto estático sobre o leito carroçável','Deficiência ou não Acionamento do Sistema de Iluminação/Sinalização do Veículo','Ingestão de Substâncias Psicoativas','Agressão Externa','Desobediência às normas de trânsito pelo pedestre'),\r\n",
    "    ordem_tipo_acidente ENUM(1,2,3),\r\n",
    "    ordem_tipo_acidente ENUM(1,2,3,4,5,6,7,8,9),\r\n",
    "    tipo_acidente ENUM('Queda de ocupante de veículo','Colisão com objeto estático','Capotamento','Tombamento','Saída de leito carroçável','Colisão traseira','Atropelamento de Animal','Colisão frontal','Incêndio','Atropelamento de Pedestre','Colisão lateral','Colisão transversal','Derramamento de carga','Colisão com objeto em movimento','Engavetamento','Danos eventuais'),\r\n",
    "    classificacao_acidente ENUM('Com Vítimas Feridas','Sem Vítimas','Com Vítimas Fatais'),\r\n",
    "    fase_dia ENUM('Plena Noite', 'Amanhecer', 'Pleno dia', 'Anoitecer'),\r\n",
    "    sentido_via ENUM('Crescente', 'Decrescente', 'Não Informado'),\r\n",
    "    condicao_metereologica ENUM('Chuva','Garoa/Chuvisco','Céu Claro','Nublado','Ignorado','Nevoeiro/Neblina','Sol','Vento','Granizo','Neve'),\r\n",
    "    tipo_pista ENUM('Simples', 'Dupla', 'Múltipla'),\r\n",
    "    tracado_via ENUM('Reta','Curva','Não Informado','Interseção de vias','Rotatória','Desvio Temporário','Viaduto','Ponte','Retorno Regulamentado','Túnel'),\r\n",
    "    uso_solo ENUM('Não','Sim'),\r\n",
    "    id_veiculo INT(50),\r\n",
    "    tipo_veiculo ENUM('Motocicleta','Automóvel','Motoneta','Caminhão','Caminhonete','Utilitário','Camioneta','Caminhão-trator','Carroça-charrete','Bicicleta','Semireboque','Reboque','Micro-ônibus','Ônibus','Outros','Ciclomotor','Trator de rodas','Não Informado','Trator misto','Carro de mão','Trem-bonde','Triciclo','Trator de esteira','Chassi-plataforma','Quadriciclo'),\r\n",
    "    marca VARCHAR(60),\r\n",
    "    ano_fabricacao INT(4),\r\n",
    "    tipo_envolvido ENUM('Condutor','Passageiro','Pedestre','Testemunha','Não Informado','Cavaleiro'),\r\n",
    "    estado_fisico ENUM('Lesões Graves','Ileso','Lesões Leves','Óbito','Não Informado'),\r\n",
    "    idade INT(3),\r\n",
    "    sexo ENUM('Masculino', 'Feminino', 'Não Informado', 'Ignorado'),\r\n",
    "    ilesos INT(2),\r\n",
    "    feridos_leves INT(2),\r\n",
    "    feridos_graves INT(2),\r\n",
    "    mortos INT(2),\r\n",
    "    latitude VARCHAR(60),\r\n",
    "    longitude VARCHAR(60),\r\n",
    "    regional VARCHAR(5),\r\n",
    "    delegacia VARCHAR(10),\r\n",
    "    uop VARCHAR(10),\r\n",
    "    PRIMARY KEY (id),\r\n",
    "    );\r\n",
    "\"\"\")"
   ],
   "outputs": [
    {
     "output_type": "error",
     "ename": "ProgrammingError",
     "evalue": "1064 (42000): You have an error in your SQL syntax; check the manual that corresponds to your MySQL server version for the right syntax to use near '1,2,3),\n    ordem_tipo_acidente ENUM(1,2,3,4,5,6,7,8,9),\n    tipo_acidente ENUM(' at line 13",
     "traceback": [
      "\u001b[1;31m---------------------------------------------------------------------------\u001b[0m",
      "\u001b[1;31mMySQLInterfaceError\u001b[0m                       Traceback (most recent call last)",
      "\u001b[1;32mC:\\ProgramData\\Anaconda3\\lib\\site-packages\\mysql\\connector\\connection_cext.py\u001b[0m in \u001b[0;36mcmd_query\u001b[1;34m(self, query, raw, buffered, raw_as_string)\u001b[0m\n\u001b[0;32m    516\u001b[0m                 \u001b[0mquery\u001b[0m \u001b[1;33m=\u001b[0m \u001b[0mquery\u001b[0m\u001b[1;33m.\u001b[0m\u001b[0mencode\u001b[0m\u001b[1;33m(\u001b[0m\u001b[1;34m'utf-8'\u001b[0m\u001b[1;33m)\u001b[0m\u001b[1;33m\u001b[0m\u001b[1;33m\u001b[0m\u001b[0m\n\u001b[1;32m--> 517\u001b[1;33m             self._cmysql.query(query,\n\u001b[0m\u001b[0;32m    518\u001b[0m                                \u001b[0mraw\u001b[0m\u001b[1;33m=\u001b[0m\u001b[0mraw\u001b[0m\u001b[1;33m,\u001b[0m \u001b[0mbuffered\u001b[0m\u001b[1;33m=\u001b[0m\u001b[0mbuffered\u001b[0m\u001b[1;33m,\u001b[0m\u001b[1;33m\u001b[0m\u001b[1;33m\u001b[0m\u001b[0m\n",
      "\u001b[1;31mMySQLInterfaceError\u001b[0m: You have an error in your SQL syntax; check the manual that corresponds to your MySQL server version for the right syntax to use near '1,2,3),\n    ordem_tipo_acidente ENUM(1,2,3,4,5,6,7,8,9),\n    tipo_acidente ENUM(' at line 13",
      "\nDuring handling of the above exception, another exception occurred:\n",
      "\u001b[1;31mProgrammingError\u001b[0m                          Traceback (most recent call last)",
      "\u001b[1;32m<ipython-input-34-25129c4e9d7d>\u001b[0m in \u001b[0;36m<module>\u001b[1;34m\u001b[0m\n\u001b[1;32m----> 1\u001b[1;33m cursor.execute(\"\"\"\n\u001b[0m\u001b[0;32m      2\u001b[0m CREATE TABLE traffic_accidents_br(\n\u001b[0;32m      3\u001b[0m     \u001b[0mid\u001b[0m \u001b[0mINT\u001b[0m\u001b[1;33m(\u001b[0m\u001b[1;36m50\u001b[0m\u001b[1;33m)\u001b[0m \u001b[0mNOT\u001b[0m \u001b[0mNULL\u001b[0m \u001b[0mAUTO_INCREMENT\u001b[0m\u001b[1;33m,\u001b[0m\u001b[1;33m\u001b[0m\u001b[1;33m\u001b[0m\u001b[0m\n\u001b[0;32m      4\u001b[0m     \u001b[0mpesid\u001b[0m \u001b[0mINT\u001b[0m\u001b[1;33m(\u001b[0m\u001b[1;36m50\u001b[0m\u001b[1;33m)\u001b[0m\u001b[1;33m,\u001b[0m\u001b[1;33m\u001b[0m\u001b[1;33m\u001b[0m\u001b[0m\n\u001b[0;32m      5\u001b[0m     \u001b[0mdata_inversa\u001b[0m \u001b[0mDATE\u001b[0m\u001b[1;33m,\u001b[0m\u001b[1;33m\u001b[0m\u001b[1;33m\u001b[0m\u001b[0m\n",
      "\u001b[1;32mC:\\ProgramData\\Anaconda3\\lib\\site-packages\\mysql\\connector\\cursor_cext.py\u001b[0m in \u001b[0;36mexecute\u001b[1;34m(self, operation, params, multi)\u001b[0m\n\u001b[0;32m    268\u001b[0m \u001b[1;33m\u001b[0m\u001b[0m\n\u001b[0;32m    269\u001b[0m         \u001b[1;32mtry\u001b[0m\u001b[1;33m:\u001b[0m\u001b[1;33m\u001b[0m\u001b[1;33m\u001b[0m\u001b[0m\n\u001b[1;32m--> 270\u001b[1;33m             result = self._cnx.cmd_query(stmt, raw=self._raw,\n\u001b[0m\u001b[0;32m    271\u001b[0m                                          \u001b[0mbuffered\u001b[0m\u001b[1;33m=\u001b[0m\u001b[0mself\u001b[0m\u001b[1;33m.\u001b[0m\u001b[0m_buffered\u001b[0m\u001b[1;33m,\u001b[0m\u001b[1;33m\u001b[0m\u001b[1;33m\u001b[0m\u001b[0m\n\u001b[0;32m    272\u001b[0m                                          raw_as_string=self._raw_as_string)\n",
      "\u001b[1;32mC:\\ProgramData\\Anaconda3\\lib\\site-packages\\mysql\\connector\\connection_cext.py\u001b[0m in \u001b[0;36mcmd_query\u001b[1;34m(self, query, raw, buffered, raw_as_string)\u001b[0m\n\u001b[0;32m    520\u001b[0m                                query_attrs=self._query_attrs)\n\u001b[0;32m    521\u001b[0m         \u001b[1;32mexcept\u001b[0m \u001b[0mMySQLInterfaceError\u001b[0m \u001b[1;32mas\u001b[0m \u001b[0mexc\u001b[0m\u001b[1;33m:\u001b[0m\u001b[1;33m\u001b[0m\u001b[1;33m\u001b[0m\u001b[0m\n\u001b[1;32m--> 522\u001b[1;33m             raise errors.get_mysql_exception(exc.errno, msg=exc.msg,\n\u001b[0m\u001b[0;32m    523\u001b[0m                                              sqlstate=exc.sqlstate)\n\u001b[0;32m    524\u001b[0m         \u001b[1;32mexcept\u001b[0m \u001b[0mAttributeError\u001b[0m\u001b[1;33m:\u001b[0m\u001b[1;33m\u001b[0m\u001b[1;33m\u001b[0m\u001b[0m\n",
      "\u001b[1;31mProgrammingError\u001b[0m: 1064 (42000): You have an error in your SQL syntax; check the manual that corresponds to your MySQL server version for the right syntax to use near '1,2,3),\n    ordem_tipo_acidente ENUM(1,2,3,4,5,6,7,8,9),\n    tipo_acidente ENUM(' at line 13"
     ]
    }
   ],
   "metadata": {}
  }
 ],
 "metadata": {
  "orig_nbformat": 4,
  "language_info": {
   "name": "python",
   "version": "3.8.5",
   "mimetype": "text/x-python",
   "codemirror_mode": {
    "name": "ipython",
    "version": 3
   },
   "pygments_lexer": "ipython3",
   "nbconvert_exporter": "python",
   "file_extension": ".py"
  },
  "kernelspec": {
   "name": "python3",
   "display_name": "Python 3.8.5 64-bit ('base': conda)"
  },
  "interpreter": {
   "hash": "b3ba2566441a7c06988d0923437866b63cedc61552a5af99d1f4fb67d367b25f"
  }
 },
 "nbformat": 4,
 "nbformat_minor": 2
}