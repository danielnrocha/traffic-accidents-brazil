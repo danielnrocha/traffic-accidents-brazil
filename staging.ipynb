{
 "cells": [
  {
   "cell_type": "code",
   "execution_count": 1,
   "source": [
    "from create_table import *"
   ],
   "outputs": [],
   "metadata": {}
  },
  {
   "cell_type": "code",
   "execution_count": 2,
   "source": [
    "import plotly.express as px\r\n",
    "import geopandas as gpd"
   ],
   "outputs": [],
   "metadata": {}
  },
  {
   "cell_type": "code",
   "execution_count": 3,
   "source": [
    "por_pessoa_todos_tipos, por_pessoa, por_ocorrencia = group_data()"
   ],
   "outputs": [],
   "metadata": {}
  },
  {
   "cell_type": "code",
   "execution_count": 4,
   "source": [
    "df = restructure_data(por_pessoa_todos_tipos, por_pessoa, por_ocorrencia)\r\n",
    "df = format_data(df)"
   ],
   "outputs": [],
   "metadata": {}
  },
  {
   "cell_type": "code",
   "execution_count": 5,
   "source": [
    "df = df.sample(n=10000)"
   ],
   "outputs": [],
   "metadata": {}
  },
  {
   "cell_type": "code",
   "execution_count": 65,
   "source": [
    "len(df[df[\"uf\"]==\"SC\"])"
   ],
   "outputs": [
    {
     "output_type": "execute_result",
     "data": {
      "text/plain": [
       "976"
      ]
     },
     "metadata": {},
     "execution_count": 65
    }
   ],
   "metadata": {}
  },
  {
   "cell_type": "code",
   "execution_count": 46,
   "source": [
    "df.columns"
   ],
   "outputs": [
    {
     "output_type": "execute_result",
     "data": {
      "text/plain": [
       "Index(['id_acidente', 'qtd_pessoas', 'qtd_mortos', 'qtd_feridos_leves',\n",
       "       'qtd_feridos_graves', 'qtd_ilesos', 'qtd_ignorados', 'qtd_feridos',\n",
       "       'qtd_veiculos', 'id_pessoa', 'data', 'dia_semana', 'horario', 'uf',\n",
       "       'br', 'km', 'municipio', 'causa_principal', 'causa_acidente',\n",
       "       'ordem_tipo_acidente', 'tipo_acidente', 'classificacao_acidente',\n",
       "       'fase_dia', 'sentido_via', 'condicao_metereologica', 'tipo_pista',\n",
       "       'tracado_via', 'uso_solo', 'id_veiculo', 'tipo_veiculo', 'marca',\n",
       "       'ano_fabricacao_veiculo', 'tipo_envolvido', 'estado_fisico', 'idade',\n",
       "       'sexo', 'latitude', 'longitude', 'regional', 'delegacia', 'uop',\n",
       "       'nacionalidade', 'naturalidade'],\n",
       "      dtype='object')"
      ]
     },
     "metadata": {},
     "execution_count": 46
    }
   ],
   "metadata": {}
  },
  {
   "cell_type": "code",
   "execution_count": 47,
   "source": [
    "df[\"description\"]"
   ],
   "outputs": [
    {
     "output_type": "error",
     "ename": "KeyError",
     "evalue": "'description'",
     "traceback": [
      "\u001b[1;31m---------------------------------------------------------------------------\u001b[0m",
      "\u001b[1;31mKeyError\u001b[0m                                  Traceback (most recent call last)",
      "\u001b[1;32mc:\\Users\\vinic\\OneDrive\\Área de Trabalho\\FGV\\Ciencia de dados\\2021.2 - Segundo periodo\\Banco de Dados\\traffic-accidents-brazil\\traffic_env\\lib\\site-packages\\pandas\\core\\indexes\\base.py\u001b[0m in \u001b[0;36mget_loc\u001b[1;34m(self, key, method, tolerance)\u001b[0m\n\u001b[0;32m   3360\u001b[0m             \u001b[1;32mtry\u001b[0m\u001b[1;33m:\u001b[0m\u001b[1;33m\u001b[0m\u001b[1;33m\u001b[0m\u001b[0m\n\u001b[1;32m-> 3361\u001b[1;33m                 \u001b[1;32mreturn\u001b[0m \u001b[0mself\u001b[0m\u001b[1;33m.\u001b[0m\u001b[0m_engine\u001b[0m\u001b[1;33m.\u001b[0m\u001b[0mget_loc\u001b[0m\u001b[1;33m(\u001b[0m\u001b[0mcasted_key\u001b[0m\u001b[1;33m)\u001b[0m\u001b[1;33m\u001b[0m\u001b[1;33m\u001b[0m\u001b[0m\n\u001b[0m\u001b[0;32m   3362\u001b[0m             \u001b[1;32mexcept\u001b[0m \u001b[0mKeyError\u001b[0m \u001b[1;32mas\u001b[0m \u001b[0merr\u001b[0m\u001b[1;33m:\u001b[0m\u001b[1;33m\u001b[0m\u001b[1;33m\u001b[0m\u001b[0m\n",
      "\u001b[1;32mc:\\Users\\vinic\\OneDrive\\Área de Trabalho\\FGV\\Ciencia de dados\\2021.2 - Segundo periodo\\Banco de Dados\\traffic-accidents-brazil\\traffic_env\\lib\\site-packages\\pandas\\_libs\\index.pyx\u001b[0m in \u001b[0;36mpandas._libs.index.IndexEngine.get_loc\u001b[1;34m()\u001b[0m\n",
      "\u001b[1;32mc:\\Users\\vinic\\OneDrive\\Área de Trabalho\\FGV\\Ciencia de dados\\2021.2 - Segundo periodo\\Banco de Dados\\traffic-accidents-brazil\\traffic_env\\lib\\site-packages\\pandas\\_libs\\index.pyx\u001b[0m in \u001b[0;36mpandas._libs.index.IndexEngine.get_loc\u001b[1;34m()\u001b[0m\n",
      "\u001b[1;32mpandas\\_libs\\hashtable_class_helper.pxi\u001b[0m in \u001b[0;36mpandas._libs.hashtable.PyObjectHashTable.get_item\u001b[1;34m()\u001b[0m\n",
      "\u001b[1;32mpandas\\_libs\\hashtable_class_helper.pxi\u001b[0m in \u001b[0;36mpandas._libs.hashtable.PyObjectHashTable.get_item\u001b[1;34m()\u001b[0m\n",
      "\u001b[1;31mKeyError\u001b[0m: 'description'",
      "\nThe above exception was the direct cause of the following exception:\n",
      "\u001b[1;31mKeyError\u001b[0m                                  Traceback (most recent call last)",
      "\u001b[1;32m~\\AppData\\Local\\Temp/ipykernel_14028/608326127.py\u001b[0m in \u001b[0;36m<module>\u001b[1;34m\u001b[0m\n\u001b[1;32m----> 1\u001b[1;33m \u001b[0mdf\u001b[0m\u001b[1;33m[\u001b[0m\u001b[1;34m\"description\"\u001b[0m\u001b[1;33m]\u001b[0m\u001b[1;33m\u001b[0m\u001b[1;33m\u001b[0m\u001b[0m\n\u001b[0m",
      "\u001b[1;32mc:\\Users\\vinic\\OneDrive\\Área de Trabalho\\FGV\\Ciencia de dados\\2021.2 - Segundo periodo\\Banco de Dados\\traffic-accidents-brazil\\traffic_env\\lib\\site-packages\\pandas\\core\\frame.py\u001b[0m in \u001b[0;36m__getitem__\u001b[1;34m(self, key)\u001b[0m\n\u001b[0;32m   3456\u001b[0m             \u001b[1;32mif\u001b[0m \u001b[0mself\u001b[0m\u001b[1;33m.\u001b[0m\u001b[0mcolumns\u001b[0m\u001b[1;33m.\u001b[0m\u001b[0mnlevels\u001b[0m \u001b[1;33m>\u001b[0m \u001b[1;36m1\u001b[0m\u001b[1;33m:\u001b[0m\u001b[1;33m\u001b[0m\u001b[1;33m\u001b[0m\u001b[0m\n\u001b[0;32m   3457\u001b[0m                 \u001b[1;32mreturn\u001b[0m \u001b[0mself\u001b[0m\u001b[1;33m.\u001b[0m\u001b[0m_getitem_multilevel\u001b[0m\u001b[1;33m(\u001b[0m\u001b[0mkey\u001b[0m\u001b[1;33m)\u001b[0m\u001b[1;33m\u001b[0m\u001b[1;33m\u001b[0m\u001b[0m\n\u001b[1;32m-> 3458\u001b[1;33m             \u001b[0mindexer\u001b[0m \u001b[1;33m=\u001b[0m \u001b[0mself\u001b[0m\u001b[1;33m.\u001b[0m\u001b[0mcolumns\u001b[0m\u001b[1;33m.\u001b[0m\u001b[0mget_loc\u001b[0m\u001b[1;33m(\u001b[0m\u001b[0mkey\u001b[0m\u001b[1;33m)\u001b[0m\u001b[1;33m\u001b[0m\u001b[1;33m\u001b[0m\u001b[0m\n\u001b[0m\u001b[0;32m   3459\u001b[0m             \u001b[1;32mif\u001b[0m \u001b[0mis_integer\u001b[0m\u001b[1;33m(\u001b[0m\u001b[0mindexer\u001b[0m\u001b[1;33m)\u001b[0m\u001b[1;33m:\u001b[0m\u001b[1;33m\u001b[0m\u001b[1;33m\u001b[0m\u001b[0m\n\u001b[0;32m   3460\u001b[0m                 \u001b[0mindexer\u001b[0m \u001b[1;33m=\u001b[0m \u001b[1;33m[\u001b[0m\u001b[0mindexer\u001b[0m\u001b[1;33m]\u001b[0m\u001b[1;33m\u001b[0m\u001b[1;33m\u001b[0m\u001b[0m\n",
      "\u001b[1;32mc:\\Users\\vinic\\OneDrive\\Área de Trabalho\\FGV\\Ciencia de dados\\2021.2 - Segundo periodo\\Banco de Dados\\traffic-accidents-brazil\\traffic_env\\lib\\site-packages\\pandas\\core\\indexes\\base.py\u001b[0m in \u001b[0;36mget_loc\u001b[1;34m(self, key, method, tolerance)\u001b[0m\n\u001b[0;32m   3361\u001b[0m                 \u001b[1;32mreturn\u001b[0m \u001b[0mself\u001b[0m\u001b[1;33m.\u001b[0m\u001b[0m_engine\u001b[0m\u001b[1;33m.\u001b[0m\u001b[0mget_loc\u001b[0m\u001b[1;33m(\u001b[0m\u001b[0mcasted_key\u001b[0m\u001b[1;33m)\u001b[0m\u001b[1;33m\u001b[0m\u001b[1;33m\u001b[0m\u001b[0m\n\u001b[0;32m   3362\u001b[0m             \u001b[1;32mexcept\u001b[0m \u001b[0mKeyError\u001b[0m \u001b[1;32mas\u001b[0m \u001b[0merr\u001b[0m\u001b[1;33m:\u001b[0m\u001b[1;33m\u001b[0m\u001b[1;33m\u001b[0m\u001b[0m\n\u001b[1;32m-> 3363\u001b[1;33m                 \u001b[1;32mraise\u001b[0m \u001b[0mKeyError\u001b[0m\u001b[1;33m(\u001b[0m\u001b[0mkey\u001b[0m\u001b[1;33m)\u001b[0m \u001b[1;32mfrom\u001b[0m \u001b[0merr\u001b[0m\u001b[1;33m\u001b[0m\u001b[1;33m\u001b[0m\u001b[0m\n\u001b[0m\u001b[0;32m   3364\u001b[0m \u001b[1;33m\u001b[0m\u001b[0m\n\u001b[0;32m   3365\u001b[0m         \u001b[1;32mif\u001b[0m \u001b[0mis_scalar\u001b[0m\u001b[1;33m(\u001b[0m\u001b[0mkey\u001b[0m\u001b[1;33m)\u001b[0m \u001b[1;32mand\u001b[0m \u001b[0misna\u001b[0m\u001b[1;33m(\u001b[0m\u001b[0mkey\u001b[0m\u001b[1;33m)\u001b[0m \u001b[1;32mand\u001b[0m \u001b[1;32mnot\u001b[0m \u001b[0mself\u001b[0m\u001b[1;33m.\u001b[0m\u001b[0mhasnans\u001b[0m\u001b[1;33m:\u001b[0m\u001b[1;33m\u001b[0m\u001b[1;33m\u001b[0m\u001b[0m\n",
      "\u001b[1;31mKeyError\u001b[0m: 'description'"
     ]
    }
   ],
   "metadata": {}
  },
  {
   "cell_type": "code",
   "execution_count": 8,
   "source": [
    "states = gpd.GeoDataFrame()\r\n",
    "for cod,uf in [(11,\"RO\"),(12,\"AC\"),(13,'AM'),(14,'RR'),(15,'PA'),(16,'AP'),(17,'TO'),(21,'MA'),(22,'PI'),(23,'CE'),(24,'RN'),(25,'PB'),(26,'PE'),(27,'AL'),(28,'SE'),(29,'BA'),(31,'MG'),(32,'ES'),(33,'RJ'),(35,'SP'),(41,'PR'),(42,'SC'),(43,'RS'),(50,'MS'),(51,'MT'),(52,'GO'),(53,'DF')]:\r\n",
    "    s = gpd.read_file(f\"geodata\\geojson\\geojs-{cod}-mun.json\")\r\n",
    "    s[\"uf\"] = uf\r\n",
    "    states = pd.concat([states, s])\r\n",
    "states.head()"
   ],
   "outputs": [
    {
     "output_type": "execute_result",
     "data": {
      "text/html": [
       "<div>\n",
       "<style scoped>\n",
       "    .dataframe tbody tr th:only-of-type {\n",
       "        vertical-align: middle;\n",
       "    }\n",
       "\n",
       "    .dataframe tbody tr th {\n",
       "        vertical-align: top;\n",
       "    }\n",
       "\n",
       "    .dataframe thead th {\n",
       "        text-align: right;\n",
       "    }\n",
       "</style>\n",
       "<table border=\"1\" class=\"dataframe\">\n",
       "  <thead>\n",
       "    <tr style=\"text-align: right;\">\n",
       "      <th></th>\n",
       "      <th>id</th>\n",
       "      <th>name</th>\n",
       "      <th>description</th>\n",
       "      <th>geometry</th>\n",
       "      <th>uf</th>\n",
       "    </tr>\n",
       "  </thead>\n",
       "  <tbody>\n",
       "    <tr>\n",
       "      <th>0</th>\n",
       "      <td>1100015</td>\n",
       "      <td>Alta Floresta D'Oeste</td>\n",
       "      <td>Alta Floresta D'Oeste</td>\n",
       "      <td>POLYGON ((-62.18209 -11.86686, -62.16230 -11.8...</td>\n",
       "      <td>RO</td>\n",
       "    </tr>\n",
       "    <tr>\n",
       "      <th>1</th>\n",
       "      <td>1100023</td>\n",
       "      <td>Ariquemes</td>\n",
       "      <td>Ariquemes</td>\n",
       "      <td>POLYGON ((-62.53595 -9.73182, -62.50782 -9.754...</td>\n",
       "      <td>RO</td>\n",
       "    </tr>\n",
       "    <tr>\n",
       "      <th>2</th>\n",
       "      <td>1100031</td>\n",
       "      <td>Cabixi</td>\n",
       "      <td>Cabixi</td>\n",
       "      <td>POLYGON ((-60.39940 -13.45584, -60.40195 -13.4...</td>\n",
       "      <td>RO</td>\n",
       "    </tr>\n",
       "    <tr>\n",
       "      <th>3</th>\n",
       "      <td>1100049</td>\n",
       "      <td>Cacoal</td>\n",
       "      <td>Cacoal</td>\n",
       "      <td>POLYGON ((-61.00051 -11.39796, -61.01794 -11.4...</td>\n",
       "      <td>RO</td>\n",
       "    </tr>\n",
       "    <tr>\n",
       "      <th>4</th>\n",
       "      <td>1100056</td>\n",
       "      <td>Cerejeiras</td>\n",
       "      <td>Cerejeiras</td>\n",
       "      <td>POLYGON ((-61.50047 -13.00392, -61.47901 -13.0...</td>\n",
       "      <td>RO</td>\n",
       "    </tr>\n",
       "  </tbody>\n",
       "</table>\n",
       "</div>"
      ],
      "text/plain": [
       "        id                   name            description  \\\n",
       "0  1100015  Alta Floresta D'Oeste  Alta Floresta D'Oeste   \n",
       "1  1100023              Ariquemes              Ariquemes   \n",
       "2  1100031                 Cabixi                 Cabixi   \n",
       "3  1100049                 Cacoal                 Cacoal   \n",
       "4  1100056             Cerejeiras             Cerejeiras   \n",
       "\n",
       "                                            geometry  uf  \n",
       "0  POLYGON ((-62.18209 -11.86686, -62.16230 -11.8...  RO  \n",
       "1  POLYGON ((-62.53595 -9.73182, -62.50782 -9.754...  RO  \n",
       "2  POLYGON ((-60.39940 -13.45584, -60.40195 -13.4...  RO  \n",
       "3  POLYGON ((-61.00051 -11.39796, -61.01794 -11.4...  RO  \n",
       "4  POLYGON ((-61.50047 -13.00392, -61.47901 -13.0...  RO  "
      ]
     },
     "metadata": {},
     "execution_count": 8
    }
   ],
   "metadata": {}
  },
  {
   "cell_type": "code",
   "execution_count": 63,
   "source": [
    "sc = states.loc[ states[\"uf\"]==\"SC\"]\r\n",
    "sc[\"name\"] = sc[\"name\"].apply(lambda x: x.upper())\r\n",
    "sc.tail()"
   ],
   "outputs": [
    {
     "output_type": "stream",
     "name": "stderr",
     "text": [
      "C:\\Users\\vinic\\AppData\\Local\\Temp/ipykernel_14028/3766708566.py:2: SettingWithCopyWarning: \n",
      "A value is trying to be set on a copy of a slice from a DataFrame.\n",
      "Try using .loc[row_indexer,col_indexer] = value instead\n",
      "\n",
      "See the caveats in the documentation: https://pandas.pydata.org/pandas-docs/stable/user_guide/indexing.html#returning-a-view-versus-a-copy\n",
      "  sc[\"name\"] = sc[\"name\"].apply(lambda x: x.upper())\n"
     ]
    },
    {
     "output_type": "execute_result",
     "data": {
      "text/html": [
       "<div>\n",
       "<style scoped>\n",
       "    .dataframe tbody tr th:only-of-type {\n",
       "        vertical-align: middle;\n",
       "    }\n",
       "\n",
       "    .dataframe tbody tr th {\n",
       "        vertical-align: top;\n",
       "    }\n",
       "\n",
       "    .dataframe thead th {\n",
       "        text-align: right;\n",
       "    }\n",
       "</style>\n",
       "<table border=\"1\" class=\"dataframe\">\n",
       "  <thead>\n",
       "    <tr style=\"text-align: right;\">\n",
       "      <th></th>\n",
       "      <th>id</th>\n",
       "      <th>name</th>\n",
       "      <th>description</th>\n",
       "      <th>geometry</th>\n",
       "      <th>uf</th>\n",
       "    </tr>\n",
       "  </thead>\n",
       "  <tbody>\n",
       "    <tr>\n",
       "      <th>288</th>\n",
       "      <td>4219408</td>\n",
       "      <td>WITMARSUM</td>\n",
       "      <td>Witmarsum</td>\n",
       "      <td>POLYGON ((-49.78204 -26.88512, -49.78006 -26.8...</td>\n",
       "      <td>SC</td>\n",
       "    </tr>\n",
       "    <tr>\n",
       "      <th>289</th>\n",
       "      <td>4219507</td>\n",
       "      <td>XANXERÊ</td>\n",
       "      <td>Xanxerê</td>\n",
       "      <td>POLYGON ((-52.43075 -26.75240, -52.43457 -26.7...</td>\n",
       "      <td>SC</td>\n",
       "    </tr>\n",
       "    <tr>\n",
       "      <th>290</th>\n",
       "      <td>4219606</td>\n",
       "      <td>XAVANTINA</td>\n",
       "      <td>Xavantina</td>\n",
       "      <td>POLYGON ((-52.24341 -26.94560, -52.24223 -26.9...</td>\n",
       "      <td>SC</td>\n",
       "    </tr>\n",
       "    <tr>\n",
       "      <th>291</th>\n",
       "      <td>4219705</td>\n",
       "      <td>XAXIM</td>\n",
       "      <td>Xaxim</td>\n",
       "      <td>POLYGON ((-52.47206 -26.85740, -52.46663 -26.8...</td>\n",
       "      <td>SC</td>\n",
       "    </tr>\n",
       "    <tr>\n",
       "      <th>292</th>\n",
       "      <td>4219853</td>\n",
       "      <td>ZORTÉA</td>\n",
       "      <td>Zortéa</td>\n",
       "      <td>POLYGON ((-51.49566 -27.39165, -51.47891 -27.3...</td>\n",
       "      <td>SC</td>\n",
       "    </tr>\n",
       "  </tbody>\n",
       "</table>\n",
       "</div>"
      ],
      "text/plain": [
       "          id       name description  \\\n",
       "288  4219408  WITMARSUM   Witmarsum   \n",
       "289  4219507    XANXERÊ     Xanxerê   \n",
       "290  4219606  XAVANTINA   Xavantina   \n",
       "291  4219705      XAXIM       Xaxim   \n",
       "292  4219853     ZORTÉA      Zortéa   \n",
       "\n",
       "                                              geometry  uf  \n",
       "288  POLYGON ((-49.78204 -26.88512, -49.78006 -26.8...  SC  \n",
       "289  POLYGON ((-52.43075 -26.75240, -52.43457 -26.7...  SC  \n",
       "290  POLYGON ((-52.24341 -26.94560, -52.24223 -26.9...  SC  \n",
       "291  POLYGON ((-52.47206 -26.85740, -52.46663 -26.8...  SC  \n",
       "292  POLYGON ((-51.49566 -27.39165, -51.47891 -27.3...  SC  "
      ]
     },
     "metadata": {},
     "execution_count": 63
    }
   ],
   "metadata": {}
  },
  {
   "cell_type": "code",
   "execution_count": 62,
   "source": [
    "df_sc_accidents = gpd.GeoDataFrame(sc.merge(right=df.loc[df[\"uf\"]==\"SC\", [\"id_acidente\", \"qtd_pessoas\",\"qtd_mortos\",\"municipio\"]], left_on=\"name\", right_on=\"municipio\", how=\"inner\"))\r\n",
    "df_sc_accidents = df_sc_accidents.rename(columns={\"id\":\"id_municipio\"})\r\n",
    "df_sc_accidents = df_sc_accidents[[\"id_municipio\",\"id_acidente\",\"municipio\",\"qtd_pessoas\",\"uf\",\"geometry\"]]\r\n",
    "df_sc_accidents"
   ],
   "outputs": [
    {
     "output_type": "execute_result",
     "data": {
      "text/html": [
       "<div>\n",
       "<style scoped>\n",
       "    .dataframe tbody tr th:only-of-type {\n",
       "        vertical-align: middle;\n",
       "    }\n",
       "\n",
       "    .dataframe tbody tr th {\n",
       "        vertical-align: top;\n",
       "    }\n",
       "\n",
       "    .dataframe thead th {\n",
       "        text-align: right;\n",
       "    }\n",
       "</style>\n",
       "<table border=\"1\" class=\"dataframe\">\n",
       "  <thead>\n",
       "    <tr style=\"text-align: right;\">\n",
       "      <th></th>\n",
       "      <th>id_municipio</th>\n",
       "      <th>id_acidente</th>\n",
       "      <th>municipio</th>\n",
       "      <th>qtd_pessoas</th>\n",
       "      <th>uf</th>\n",
       "      <th>geometry</th>\n",
       "    </tr>\n",
       "  </thead>\n",
       "  <tbody>\n",
       "    <tr>\n",
       "      <th>0</th>\n",
       "      <td>4200705</td>\n",
       "      <td>99260</td>\n",
       "      <td>ALFREDO WAGNER</td>\n",
       "      <td>9</td>\n",
       "      <td>SC</td>\n",
       "      <td>POLYGON ((-49.38036 -27.55767, -49.36867 -27.5...</td>\n",
       "    </tr>\n",
       "    <tr>\n",
       "      <th>1</th>\n",
       "      <td>4200705</td>\n",
       "      <td>295542</td>\n",
       "      <td>ALFREDO WAGNER</td>\n",
       "      <td>1</td>\n",
       "      <td>SC</td>\n",
       "      <td>POLYGON ((-49.38036 -27.55767, -49.36867 -27.5...</td>\n",
       "    </tr>\n",
       "    <tr>\n",
       "      <th>2</th>\n",
       "      <td>4200705</td>\n",
       "      <td>240394</td>\n",
       "      <td>ALFREDO WAGNER</td>\n",
       "      <td>2</td>\n",
       "      <td>SC</td>\n",
       "      <td>POLYGON ((-49.38036 -27.55767, -49.36867 -27.5...</td>\n",
       "    </tr>\n",
       "    <tr>\n",
       "      <th>3</th>\n",
       "      <td>4200705</td>\n",
       "      <td>103865</td>\n",
       "      <td>ALFREDO WAGNER</td>\n",
       "      <td>2</td>\n",
       "      <td>SC</td>\n",
       "      <td>POLYGON ((-49.38036 -27.55767, -49.36867 -27.5...</td>\n",
       "    </tr>\n",
       "    <tr>\n",
       "      <th>4</th>\n",
       "      <td>4201307</td>\n",
       "      <td>29099</td>\n",
       "      <td>ARAQUARI</td>\n",
       "      <td>3</td>\n",
       "      <td>SC</td>\n",
       "      <td>POLYGON ((-48.70109 -26.34404, -48.67745 -26.3...</td>\n",
       "    </tr>\n",
       "    <tr>\n",
       "      <th>...</th>\n",
       "      <td>...</td>\n",
       "      <td>...</td>\n",
       "      <td>...</td>\n",
       "      <td>...</td>\n",
       "      <td>...</td>\n",
       "      <td>...</td>\n",
       "    </tr>\n",
       "    <tr>\n",
       "      <th>492</th>\n",
       "      <td>4219705</td>\n",
       "      <td>212886</td>\n",
       "      <td>XAXIM</td>\n",
       "      <td>3</td>\n",
       "      <td>SC</td>\n",
       "      <td>POLYGON ((-52.47206 -26.85740, -52.46663 -26.8...</td>\n",
       "    </tr>\n",
       "    <tr>\n",
       "      <th>493</th>\n",
       "      <td>4219705</td>\n",
       "      <td>199113</td>\n",
       "      <td>XAXIM</td>\n",
       "      <td>2</td>\n",
       "      <td>SC</td>\n",
       "      <td>POLYGON ((-52.47206 -26.85740, -52.46663 -26.8...</td>\n",
       "    </tr>\n",
       "    <tr>\n",
       "      <th>494</th>\n",
       "      <td>4219705</td>\n",
       "      <td>318640</td>\n",
       "      <td>XAXIM</td>\n",
       "      <td>2</td>\n",
       "      <td>SC</td>\n",
       "      <td>POLYGON ((-52.47206 -26.85740, -52.46663 -26.8...</td>\n",
       "    </tr>\n",
       "    <tr>\n",
       "      <th>495</th>\n",
       "      <td>4219705</td>\n",
       "      <td>282562</td>\n",
       "      <td>XAXIM</td>\n",
       "      <td>1</td>\n",
       "      <td>SC</td>\n",
       "      <td>POLYGON ((-52.47206 -26.85740, -52.46663 -26.8...</td>\n",
       "    </tr>\n",
       "    <tr>\n",
       "      <th>496</th>\n",
       "      <td>4219705</td>\n",
       "      <td>14899</td>\n",
       "      <td>XAXIM</td>\n",
       "      <td>2</td>\n",
       "      <td>SC</td>\n",
       "      <td>POLYGON ((-52.47206 -26.85740, -52.46663 -26.8...</td>\n",
       "    </tr>\n",
       "  </tbody>\n",
       "</table>\n",
       "<p>497 rows × 6 columns</p>\n",
       "</div>"
      ],
      "text/plain": [
       "    id_municipio  id_acidente       municipio  qtd_pessoas  uf  \\\n",
       "0        4200705        99260  ALFREDO WAGNER            9  SC   \n",
       "1        4200705       295542  ALFREDO WAGNER            1  SC   \n",
       "2        4200705       240394  ALFREDO WAGNER            2  SC   \n",
       "3        4200705       103865  ALFREDO WAGNER            2  SC   \n",
       "4        4201307        29099        ARAQUARI            3  SC   \n",
       "..           ...          ...             ...          ...  ..   \n",
       "492      4219705       212886           XAXIM            3  SC   \n",
       "493      4219705       199113           XAXIM            2  SC   \n",
       "494      4219705       318640           XAXIM            2  SC   \n",
       "495      4219705       282562           XAXIM            1  SC   \n",
       "496      4219705        14899           XAXIM            2  SC   \n",
       "\n",
       "                                              geometry  \n",
       "0    POLYGON ((-49.38036 -27.55767, -49.36867 -27.5...  \n",
       "1    POLYGON ((-49.38036 -27.55767, -49.36867 -27.5...  \n",
       "2    POLYGON ((-49.38036 -27.55767, -49.36867 -27.5...  \n",
       "3    POLYGON ((-49.38036 -27.55767, -49.36867 -27.5...  \n",
       "4    POLYGON ((-48.70109 -26.34404, -48.67745 -26.3...  \n",
       "..                                                 ...  \n",
       "492  POLYGON ((-52.47206 -26.85740, -52.46663 -26.8...  \n",
       "493  POLYGON ((-52.47206 -26.85740, -52.46663 -26.8...  \n",
       "494  POLYGON ((-52.47206 -26.85740, -52.46663 -26.8...  \n",
       "495  POLYGON ((-52.47206 -26.85740, -52.46663 -26.8...  \n",
       "496  POLYGON ((-52.47206 -26.85740, -52.46663 -26.8...  \n",
       "\n",
       "[497 rows x 6 columns]"
      ]
     },
     "metadata": {},
     "execution_count": 62
    }
   ],
   "metadata": {}
  },
  {
   "cell_type": "code",
   "execution_count": 72,
   "source": [
    "fig = px.choropleth(df_sc_accidents, geojson=df_sc_accidents[\"geometry\"], locations=df_sc_accidents[\"municipio\"])\r\n",
    "fig.show()"
   ],
   "outputs": [
    {
     "output_type": "error",
     "ename": "ValueError",
     "evalue": "Mime type rendering requires nbformat>=4.2.0 but it is not installed",
     "traceback": [
      "\u001b[1;31m---------------------------------------------------------------------------\u001b[0m",
      "\u001b[1;31mValueError\u001b[0m                                Traceback (most recent call last)",
      "\u001b[1;32m~\\AppData\\Local\\Temp/ipykernel_14028/3681972160.py\u001b[0m in \u001b[0;36m<module>\u001b[1;34m\u001b[0m\n\u001b[0;32m      1\u001b[0m \u001b[0mfig\u001b[0m \u001b[1;33m=\u001b[0m \u001b[0mpx\u001b[0m\u001b[1;33m.\u001b[0m\u001b[0mchoropleth\u001b[0m\u001b[1;33m(\u001b[0m\u001b[0mdf_sc_accidents\u001b[0m\u001b[1;33m,\u001b[0m \u001b[0mgeojson\u001b[0m\u001b[1;33m=\u001b[0m\u001b[0mdf_sc_accidents\u001b[0m\u001b[1;33m[\u001b[0m\u001b[1;34m\"geometry\"\u001b[0m\u001b[1;33m]\u001b[0m\u001b[1;33m,\u001b[0m \u001b[0mlocations\u001b[0m\u001b[1;33m=\u001b[0m\u001b[0mdf_sc_accidents\u001b[0m\u001b[1;33m[\u001b[0m\u001b[1;34m\"municipio\"\u001b[0m\u001b[1;33m]\u001b[0m\u001b[1;33m)\u001b[0m\u001b[1;33m\u001b[0m\u001b[1;33m\u001b[0m\u001b[0m\n\u001b[1;32m----> 2\u001b[1;33m \u001b[0mfig\u001b[0m\u001b[1;33m.\u001b[0m\u001b[0mshow\u001b[0m\u001b[1;33m(\u001b[0m\u001b[1;33m)\u001b[0m\u001b[1;33m\u001b[0m\u001b[1;33m\u001b[0m\u001b[0m\n\u001b[0m",
      "\u001b[1;32mc:\\Users\\vinic\\OneDrive\\Área de Trabalho\\FGV\\Ciencia de dados\\2021.2 - Segundo periodo\\Banco de Dados\\traffic-accidents-brazil\\traffic_env\\lib\\site-packages\\plotly\\basedatatypes.py\u001b[0m in \u001b[0;36mshow\u001b[1;34m(self, *args, **kwargs)\u001b[0m\n\u001b[0;32m   3396\u001b[0m         \u001b[1;32mimport\u001b[0m \u001b[0mplotly\u001b[0m\u001b[1;33m.\u001b[0m\u001b[0mio\u001b[0m \u001b[1;32mas\u001b[0m \u001b[0mpio\u001b[0m\u001b[1;33m\u001b[0m\u001b[1;33m\u001b[0m\u001b[0m\n\u001b[0;32m   3397\u001b[0m \u001b[1;33m\u001b[0m\u001b[0m\n\u001b[1;32m-> 3398\u001b[1;33m         \u001b[1;32mreturn\u001b[0m \u001b[0mpio\u001b[0m\u001b[1;33m.\u001b[0m\u001b[0mshow\u001b[0m\u001b[1;33m(\u001b[0m\u001b[0mself\u001b[0m\u001b[1;33m,\u001b[0m \u001b[1;33m*\u001b[0m\u001b[0margs\u001b[0m\u001b[1;33m,\u001b[0m \u001b[1;33m**\u001b[0m\u001b[0mkwargs\u001b[0m\u001b[1;33m)\u001b[0m\u001b[1;33m\u001b[0m\u001b[1;33m\u001b[0m\u001b[0m\n\u001b[0m\u001b[0;32m   3399\u001b[0m \u001b[1;33m\u001b[0m\u001b[0m\n\u001b[0;32m   3400\u001b[0m     \u001b[1;32mdef\u001b[0m \u001b[0mto_json\u001b[0m\u001b[1;33m(\u001b[0m\u001b[0mself\u001b[0m\u001b[1;33m,\u001b[0m \u001b[1;33m*\u001b[0m\u001b[0margs\u001b[0m\u001b[1;33m,\u001b[0m \u001b[1;33m**\u001b[0m\u001b[0mkwargs\u001b[0m\u001b[1;33m)\u001b[0m\u001b[1;33m:\u001b[0m\u001b[1;33m\u001b[0m\u001b[1;33m\u001b[0m\u001b[0m\n",
      "\u001b[1;32mc:\\Users\\vinic\\OneDrive\\Área de Trabalho\\FGV\\Ciencia de dados\\2021.2 - Segundo periodo\\Banco de Dados\\traffic-accidents-brazil\\traffic_env\\lib\\site-packages\\plotly\\io\\_renderers.py\u001b[0m in \u001b[0;36mshow\u001b[1;34m(fig, renderer, validate, **kwargs)\u001b[0m\n\u001b[0;32m    395\u001b[0m \u001b[1;33m\u001b[0m\u001b[0m\n\u001b[0;32m    396\u001b[0m         \u001b[1;32mif\u001b[0m \u001b[1;32mnot\u001b[0m \u001b[0mnbformat\u001b[0m \u001b[1;32mor\u001b[0m \u001b[0mLooseVersion\u001b[0m\u001b[1;33m(\u001b[0m\u001b[0mnbformat\u001b[0m\u001b[1;33m.\u001b[0m\u001b[0m__version__\u001b[0m\u001b[1;33m)\u001b[0m \u001b[1;33m<\u001b[0m \u001b[0mLooseVersion\u001b[0m\u001b[1;33m(\u001b[0m\u001b[1;34m\"4.2.0\"\u001b[0m\u001b[1;33m)\u001b[0m\u001b[1;33m:\u001b[0m\u001b[1;33m\u001b[0m\u001b[1;33m\u001b[0m\u001b[0m\n\u001b[1;32m--> 397\u001b[1;33m             raise ValueError(\n\u001b[0m\u001b[0;32m    398\u001b[0m                 \u001b[1;34m\"Mime type rendering requires nbformat>=4.2.0 but it is not installed\"\u001b[0m\u001b[1;33m\u001b[0m\u001b[1;33m\u001b[0m\u001b[0m\n\u001b[0;32m    399\u001b[0m             )\n",
      "\u001b[1;31mValueError\u001b[0m: Mime type rendering requires nbformat>=4.2.0 but it is not installed"
     ]
    }
   ],
   "metadata": {}
  }
 ],
 "metadata": {
  "orig_nbformat": 4,
  "language_info": {
   "name": "python",
   "version": "3.8.5",
   "mimetype": "text/x-python",
   "codemirror_mode": {
    "name": "ipython",
    "version": 3
   },
   "pygments_lexer": "ipython3",
   "nbconvert_exporter": "python",
   "file_extension": ".py"
  },
  "kernelspec": {
   "name": "python3",
   "display_name": "Python 3.8.5 64-bit ('traffic_env': venv)"
  },
  "interpreter": {
   "hash": "efe947ef4a1b02851ef651aec1589c8b25f6caa582a2abf956b33d8ae8e11706"
  }
 },
 "nbformat": 4,
 "nbformat_minor": 2
}